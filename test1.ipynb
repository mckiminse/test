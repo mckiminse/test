{
  "nbformat": 4,
  "nbformat_minor": 5,
  "metadata": {
    "kernelspec": {
      "display_name": "Python 3",
      "language": "python",
      "name": "python3"
    },
    "language_info": {
      "codemirror_mode": {
        "name": "ipython",
        "version": 3
      },
      "file_extension": ".py",
      "mimetype": "text/x-python",
      "name": "python",
      "nbconvert_exporter": "python",
      "pygments_lexer": "ipython3",
      "version": "3.8.8"
    },
    "colab": {
      "name": "test1.ipynb",
      "provenance": [],
      "include_colab_link": true
    }
  },
  "cells": [
    {
      "cell_type": "markdown",
      "metadata": {
        "id": "view-in-github",
        "colab_type": "text"
      },
      "source": [
        "<a href=\"https://colab.research.google.com/github/mckiminse/test/blob/main/test1.ipynb\" target=\"_parent\"><img src=\"https://colab.research.google.com/assets/colab-badge.svg\" alt=\"Open In Colab\"/></a>"
      ]
    },
    {
      "cell_type": "code",
      "metadata": {
        "id": "accurate-aspect",
        "outputId": "73d60b63-4303-4056-990b-7e161e132aaa"
      },
      "source": [
        "print(\"Hello World\")"
      ],
      "id": "accurate-aspect",
      "execution_count": null,
      "outputs": [
        {
          "output_type": "stream",
          "text": [
            "Hello World\n"
          ],
          "name": "stdout"
        }
      ]
    },
    {
      "cell_type": "code",
      "metadata": {
        "id": "3-FKKCdiIEn3"
      },
      "source": [
        "import pandas as pd"
      ],
      "id": "3-FKKCdiIEn3",
      "execution_count": null,
      "outputs": []
    },
    {
      "cell_type": "code",
      "metadata": {
        "colab": {
          "base_uri": "https://localhost:8080/"
        },
        "id": "Rg0j-WPIHbb_",
        "outputId": "7a020a02-6246-4e1b-9325-f465acecc46f"
      },
      "source": [
        "from google.colab import drive \r\n",
        "drive.mount('Gdrive')"
      ],
      "id": "Rg0j-WPIHbb_",
      "execution_count": null,
      "outputs": [
        {
          "output_type": "stream",
          "text": [
            "Mounted at Gdrive\n"
          ],
          "name": "stdout"
        }
      ]
    },
    {
      "cell_type": "code",
      "metadata": {
        "id": "TK0faMM4G1m6",
        "colab": {
          "base_uri": "https://localhost:8080/"
        },
        "outputId": "ab7213a0-c8f3-4b68-fc59-14524d0fba24"
      },
      "source": [
        "1+1\r\n"
      ],
      "id": "TK0faMM4G1m6",
      "execution_count": null,
      "outputs": [
        {
          "output_type": "execute_result",
          "data": {
            "text/plain": [
              "2"
            ]
          },
          "metadata": {
            "tags": []
          },
          "execution_count": 1
        }
      ]
    },
    {
      "cell_type": "code",
      "metadata": {
        "id": "industrial-destination"
      },
      "source": [
        "happy=True\n",
        "excited=False\n"
      ],
      "id": "industrial-destination",
      "execution_count": null,
      "outputs": []
    },
    {
      "cell_type": "code",
      "metadata": {
        "id": "gothic-recruitment",
        "outputId": "81ba0206-4c28-4aca-b3b0-d83ef7e647aa"
      },
      "source": [
        "not happy"
      ],
      "id": "gothic-recruitment",
      "execution_count": null,
      "outputs": [
        {
          "output_type": "execute_result",
          "data": {
            "text/plain": [
              "False"
            ]
          },
          "metadata": {
            "tags": []
          },
          "execution_count": 4
        }
      ]
    },
    {
      "cell_type": "code",
      "metadata": {
        "id": "assured-boundary",
        "outputId": "d1bd2058-83c8-46c2-f87f-e9c377f44b7f"
      },
      "source": [
        "happy and excited"
      ],
      "id": "assured-boundary",
      "execution_count": null,
      "outputs": [
        {
          "output_type": "execute_result",
          "data": {
            "text/plain": [
              "False"
            ]
          },
          "metadata": {
            "tags": []
          },
          "execution_count": 5
        }
      ]
    },
    {
      "cell_type": "markdown",
      "metadata": {
        "id": "fiscal-board"
      },
      "source": [
        "### if else elif\n"
      ],
      "id": "fiscal-board"
    },
    {
      "cell_type": "code",
      "metadata": {
        "id": "strategic-plain",
        "outputId": "2795856f-3cbe-432e-ca2b-f0e9779c37d0"
      },
      "source": [
        "if happy:\n",
        "    print(\"I am happy\")"
      ],
      "id": "strategic-plain",
      "execution_count": null,
      "outputs": [
        {
          "output_type": "stream",
          "text": [
            "I am happy\n"
          ],
          "name": "stdout"
        }
      ]
    },
    {
      "cell_type": "code",
      "metadata": {
        "id": "about-holder",
        "outputId": "7cd0a367-4619-44bf-8720-d602d9f955a6"
      },
      "source": [
        "for i in range(10):\n",
        "    print(i)"
      ],
      "id": "about-holder",
      "execution_count": null,
      "outputs": [
        {
          "output_type": "stream",
          "text": [
            "0\n",
            "1\n",
            "2\n",
            "3\n",
            "4\n",
            "5\n",
            "6\n",
            "7\n",
            "8\n",
            "9\n"
          ],
          "name": "stdout"
        }
      ]
    },
    {
      "cell_type": "code",
      "metadata": {
        "id": "positive-fight"
      },
      "source": [
        ""
      ],
      "id": "positive-fight",
      "execution_count": null,
      "outputs": []
    }
  ]
}